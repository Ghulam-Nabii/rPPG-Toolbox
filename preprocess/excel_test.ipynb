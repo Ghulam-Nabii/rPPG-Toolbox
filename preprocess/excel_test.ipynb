{
 "cells": [
  {
   "cell_type": "code",
   "execution_count": 6,
   "metadata": {},
   "outputs": [
    {
     "data": {
      "text/plain": [
       "'C:\\\\Users\\\\T JACK\\\\Desktop\\\\ACSP\\\\code\\\\GreenChannel\\\\dataset\\\\0_test'"
      ]
     },
     "execution_count": 6,
     "metadata": {},
     "output_type": "execute_result"
    }
   ],
   "source": [
    "os.getcwd()"
   ]
  },
  {
   "cell_type": "code",
   "execution_count": 5,
   "metadata": {},
   "outputs": [],
   "source": [
    "#测试excel（xlsx）的读，写，包括对于子表等的读写\n",
    "from openpyxl import load_workbook\n",
    "import os\n",
    "# origin_path = 'C:/Users/T JACK/Desktop/ACSP/code/GreenChannel/dataset'\n",
    "origin_path =  r'C:\\Users\\T JACK\\Desktop\\ACSP\\code\\GreenChannel\\dataset'\n",
    "current_path = os.path.join(origin_path,'0_test')\n",
    "os.chdir(current_path)"
   ]
  },
  {
   "cell_type": "code",
   "execution_count": 7,
   "metadata": {},
   "outputs": [
    {
     "name": "stderr",
     "output_type": "stream",
     "text": [
      "C:\\Users\\TJACK~1\\AppData\\Local\\Temp/ipykernel_23684/2603590620.py:2: DeprecationWarning: Call to deprecated function get_sheet_names (Use wb.sheetnames).\n",
      "  wb.get_sheet_names()\n"
     ]
    },
    {
     "data": {
      "text/plain": [
       "['Sheet1', 'Sheet2']"
      ]
     },
     "execution_count": 7,
     "metadata": {},
     "output_type": "execute_result"
    }
   ],
   "source": [
    "wb = load_workbook('0.xlsx')\n",
    "wb.get_sheet_names()"
   ]
  },
  {
   "cell_type": "code",
   "execution_count": 13,
   "metadata": {},
   "outputs": [
    {
     "name": "stderr",
     "output_type": "stream",
     "text": [
      "C:\\Users\\TJACK~1\\AppData\\Local\\Temp/ipykernel_23684/2310760550.py:1: DeprecationWarning: Call to deprecated function get_sheet_by_name (Use wb[sheetname]).\n",
      "  sheet_2 = wb.get_sheet_by_name('Sheet2')\n"
     ]
    },
    {
     "data": {
      "text/plain": [
       "int"
      ]
     },
     "execution_count": 13,
     "metadata": {},
     "output_type": "execute_result"
    }
   ],
   "source": [
    "sheet_2 = wb.get_sheet_by_name('Sheet2')\n",
    "type(sheet_2['B3'].value)"
   ]
  },
  {
   "cell_type": "code",
   "execution_count": 32,
   "metadata": {},
   "outputs": [
    {
     "name": "stderr",
     "output_type": "stream",
     "text": [
      "C:\\Users\\TJACK~1\\AppData\\Local\\Temp/ipykernel_23684/747057723.py:4: DeprecationWarning: Call to deprecated function get_sheet_by_name (Use wb[sheetname]).\n",
      "  sheet_2 = wb.get_sheet_by_name('Sheet2')\n"
     ]
    },
    {
     "data": {
      "text/html": [
       "<div>\n",
       "<style scoped>\n",
       "    .dataframe tbody tr th:only-of-type {\n",
       "        vertical-align: middle;\n",
       "    }\n",
       "\n",
       "    .dataframe tbody tr th {\n",
       "        vertical-align: top;\n",
       "    }\n",
       "\n",
       "    .dataframe thead th {\n",
       "        text-align: right;\n",
       "    }\n",
       "</style>\n",
       "<table border=\"1\" class=\"dataframe\">\n",
       "  <thead>\n",
       "    <tr style=\"text-align: right;\">\n",
       "      <th></th>\n",
       "      <th>0</th>\n",
       "      <th>1</th>\n",
       "      <th>2</th>\n",
       "      <th>3</th>\n",
       "      <th>4</th>\n",
       "      <th>5</th>\n",
       "      <th>6</th>\n",
       "      <th>7</th>\n",
       "      <th>8</th>\n",
       "      <th>9</th>\n",
       "      <th>10</th>\n",
       "    </tr>\n",
       "  </thead>\n",
       "  <tbody>\n",
       "    <tr>\n",
       "      <th>0</th>\n",
       "      <td>实验序号</td>\n",
       "      <td>ISO</td>\n",
       "      <td>Shutter</td>\n",
       "      <td>light</td>\n",
       "      <td>intensity</td>\n",
       "      <td>action</td>\n",
       "      <td>brand</td>\n",
       "      <td>MAE</td>\n",
       "      <td>SNR</td>\n",
       "      <td>GT_HR</td>\n",
       "      <td>Face_HR</td>\n",
       "    </tr>\n",
       "    <tr>\n",
       "      <th>1</th>\n",
       "      <td>1</td>\n",
       "      <td>-1</td>\n",
       "      <td>1/50</td>\n",
       "      <td>None</td>\n",
       "      <td>None</td>\n",
       "      <td>None</td>\n",
       "      <td>None</td>\n",
       "      <td>None</td>\n",
       "      <td>None</td>\n",
       "      <td>None</td>\n",
       "      <td>None</td>\n",
       "    </tr>\n",
       "    <tr>\n",
       "      <th>2</th>\n",
       "      <td>2</td>\n",
       "      <td>-1</td>\n",
       "      <td>1/100</td>\n",
       "      <td>None</td>\n",
       "      <td>None</td>\n",
       "      <td>None</td>\n",
       "      <td>Xiaomi</td>\n",
       "      <td>None</td>\n",
       "      <td>None</td>\n",
       "      <td>None</td>\n",
       "      <td>None</td>\n",
       "    </tr>\n",
       "    <tr>\n",
       "      <th>3</th>\n",
       "      <td>3</td>\n",
       "      <td>-1</td>\n",
       "      <td>1/200</td>\n",
       "      <td>None</td>\n",
       "      <td>100</td>\n",
       "      <td>None</td>\n",
       "      <td>None</td>\n",
       "      <td>None</td>\n",
       "      <td>None</td>\n",
       "      <td>None</td>\n",
       "      <td>None</td>\n",
       "    </tr>\n",
       "    <tr>\n",
       "      <th>4</th>\n",
       "      <td>4</td>\n",
       "      <td>-1</td>\n",
       "      <td>1/400</td>\n",
       "      <td>None</td>\n",
       "      <td>None</td>\n",
       "      <td>None</td>\n",
       "      <td>Xiaomi</td>\n",
       "      <td>None</td>\n",
       "      <td>None</td>\n",
       "      <td>None</td>\n",
       "      <td>None</td>\n",
       "    </tr>\n",
       "    <tr>\n",
       "      <th>5</th>\n",
       "      <td>5</td>\n",
       "      <td>50</td>\n",
       "      <td>-1</td>\n",
       "      <td>None</td>\n",
       "      <td>None</td>\n",
       "      <td>still</td>\n",
       "      <td>None</td>\n",
       "      <td>None</td>\n",
       "      <td>None</td>\n",
       "      <td>None</td>\n",
       "      <td>None</td>\n",
       "    </tr>\n",
       "    <tr>\n",
       "      <th>6</th>\n",
       "      <td>6</td>\n",
       "      <td>100</td>\n",
       "      <td>-1</td>\n",
       "      <td>None</td>\n",
       "      <td>None</td>\n",
       "      <td>None</td>\n",
       "      <td>None</td>\n",
       "      <td>None</td>\n",
       "      <td>None</td>\n",
       "      <td>None</td>\n",
       "      <td>None</td>\n",
       "    </tr>\n",
       "    <tr>\n",
       "      <th>7</th>\n",
       "      <td>7</td>\n",
       "      <td>200</td>\n",
       "      <td>-1</td>\n",
       "      <td>None</td>\n",
       "      <td>None</td>\n",
       "      <td>None</td>\n",
       "      <td>None</td>\n",
       "      <td>None</td>\n",
       "      <td>None</td>\n",
       "      <td>None</td>\n",
       "      <td>None</td>\n",
       "    </tr>\n",
       "  </tbody>\n",
       "</table>\n",
       "</div>"
      ],
      "text/plain": [
       "     0    1        2      3          4       5       6     7     8      9   \\\n",
       "0  实验序号  ISO  Shutter  light  intensity  action   brand   MAE   SNR  GT_HR   \n",
       "1     1   -1     1/50   None       None    None    None  None  None   None   \n",
       "2     2   -1    1/100   None       None    None  Xiaomi  None  None   None   \n",
       "3     3   -1    1/200   None        100    None    None  None  None   None   \n",
       "4     4   -1    1/400   None       None    None  Xiaomi  None  None   None   \n",
       "5     5   50       -1   None       None   still    None  None  None   None   \n",
       "6     6  100       -1   None       None    None    None  None  None   None   \n",
       "7     7  200       -1   None       None    None    None  None  None   None   \n",
       "\n",
       "        10  \n",
       "0  Face_HR  \n",
       "1     None  \n",
       "2     None  \n",
       "3     None  \n",
       "4     None  \n",
       "5     None  \n",
       "6     None  \n",
       "7     None  "
      ]
     },
     "execution_count": 32,
     "metadata": {},
     "output_type": "execute_result"
    }
   ],
   "source": [
    "import pandas as pd\n",
    "wb = load_workbook('0.xlsx')\n",
    "# ws = wb.active\n",
    "sheet_2 = wb.get_sheet_by_name('Sheet2')\n",
    "values = sheet_2.values\n",
    "cols = next()\n",
    "df = pd.DataFrame(values)\n",
    "df"
   ]
  },
  {
   "cell_type": "code",
   "execution_count": 37,
   "metadata": {},
   "outputs": [
    {
     "data": {
      "text/plain": [
       "RangeIndex(start=0, stop=11, step=1)"
      ]
     },
     "execution_count": 37,
     "metadata": {},
     "output_type": "execute_result"
    }
   ],
   "source": [
    "df.columns"
   ]
  },
  {
   "cell_type": "code",
   "execution_count": 1,
   "metadata": {},
   "outputs": [
    {
     "data": {
      "text/html": [
       "<div>\n",
       "<style scoped>\n",
       "    .dataframe tbody tr th:only-of-type {\n",
       "        vertical-align: middle;\n",
       "    }\n",
       "\n",
       "    .dataframe tbody tr th {\n",
       "        vertical-align: top;\n",
       "    }\n",
       "\n",
       "    .dataframe thead th {\n",
       "        text-align: right;\n",
       "    }\n",
       "</style>\n",
       "<table border=\"1\" class=\"dataframe\">\n",
       "  <thead>\n",
       "    <tr style=\"text-align: right;\">\n",
       "      <th></th>\n",
       "      <th>实验序号</th>\n",
       "      <th>ISO</th>\n",
       "      <th>Shutter</th>\n",
       "      <th>light</th>\n",
       "      <th>intensity</th>\n",
       "      <th>action</th>\n",
       "      <th>brand</th>\n",
       "      <th>MAE</th>\n",
       "      <th>SNR</th>\n",
       "      <th>GT_HR</th>\n",
       "      <th>Face_HR</th>\n",
       "    </tr>\n",
       "  </thead>\n",
       "  <tbody>\n",
       "    <tr>\n",
       "      <th>0</th>\n",
       "      <td>1</td>\n",
       "      <td>-1</td>\n",
       "      <td>1/50</td>\n",
       "      <td>NaN</td>\n",
       "      <td>NaN</td>\n",
       "      <td>NaN</td>\n",
       "      <td>NaN</td>\n",
       "      <td>NaN</td>\n",
       "      <td>NaN</td>\n",
       "      <td>NaN</td>\n",
       "      <td>NaN</td>\n",
       "    </tr>\n",
       "    <tr>\n",
       "      <th>1</th>\n",
       "      <td>2</td>\n",
       "      <td>-1</td>\n",
       "      <td>1/100</td>\n",
       "      <td>NaN</td>\n",
       "      <td>NaN</td>\n",
       "      <td>NaN</td>\n",
       "      <td>NaN</td>\n",
       "      <td>NaN</td>\n",
       "      <td>NaN</td>\n",
       "      <td>NaN</td>\n",
       "      <td>NaN</td>\n",
       "    </tr>\n",
       "    <tr>\n",
       "      <th>2</th>\n",
       "      <td>3</td>\n",
       "      <td>-1</td>\n",
       "      <td>1/200</td>\n",
       "      <td>NaN</td>\n",
       "      <td>NaN</td>\n",
       "      <td>NaN</td>\n",
       "      <td>NaN</td>\n",
       "      <td>NaN</td>\n",
       "      <td>NaN</td>\n",
       "      <td>NaN</td>\n",
       "      <td>NaN</td>\n",
       "    </tr>\n",
       "    <tr>\n",
       "      <th>3</th>\n",
       "      <td>4</td>\n",
       "      <td>-1</td>\n",
       "      <td>1/400</td>\n",
       "      <td>NaN</td>\n",
       "      <td>NaN</td>\n",
       "      <td>NaN</td>\n",
       "      <td>NaN</td>\n",
       "      <td>NaN</td>\n",
       "      <td>NaN</td>\n",
       "      <td>NaN</td>\n",
       "      <td>NaN</td>\n",
       "    </tr>\n",
       "    <tr>\n",
       "      <th>4</th>\n",
       "      <td>5</td>\n",
       "      <td>50</td>\n",
       "      <td>-1</td>\n",
       "      <td>NaN</td>\n",
       "      <td>NaN</td>\n",
       "      <td>NaN</td>\n",
       "      <td>NaN</td>\n",
       "      <td>NaN</td>\n",
       "      <td>NaN</td>\n",
       "      <td>NaN</td>\n",
       "      <td>NaN</td>\n",
       "    </tr>\n",
       "    <tr>\n",
       "      <th>5</th>\n",
       "      <td>6</td>\n",
       "      <td>100</td>\n",
       "      <td>-1</td>\n",
       "      <td>NaN</td>\n",
       "      <td>NaN</td>\n",
       "      <td>NaN</td>\n",
       "      <td>NaN</td>\n",
       "      <td>NaN</td>\n",
       "      <td>NaN</td>\n",
       "      <td>NaN</td>\n",
       "      <td>NaN</td>\n",
       "    </tr>\n",
       "    <tr>\n",
       "      <th>6</th>\n",
       "      <td>7</td>\n",
       "      <td>200</td>\n",
       "      <td>-1</td>\n",
       "      <td>NaN</td>\n",
       "      <td>NaN</td>\n",
       "      <td>NaN</td>\n",
       "      <td>NaN</td>\n",
       "      <td>NaN</td>\n",
       "      <td>NaN</td>\n",
       "      <td>NaN</td>\n",
       "      <td>NaN</td>\n",
       "    </tr>\n",
       "  </tbody>\n",
       "</table>\n",
       "</div>"
      ],
      "text/plain": [
       "   实验序号  ISO Shutter  light  intensity  action  brand  MAE  SNR  GT_HR  \\\n",
       "0     1   -1    1/50    NaN        NaN     NaN    NaN  NaN  NaN    NaN   \n",
       "1     2   -1   1/100    NaN        NaN     NaN    NaN  NaN  NaN    NaN   \n",
       "2     3   -1   1/200    NaN        NaN     NaN    NaN  NaN  NaN    NaN   \n",
       "3     4   -1   1/400    NaN        NaN     NaN    NaN  NaN  NaN    NaN   \n",
       "4     5   50      -1    NaN        NaN     NaN    NaN  NaN  NaN    NaN   \n",
       "5     6  100      -1    NaN        NaN     NaN    NaN  NaN  NaN    NaN   \n",
       "6     7  200      -1    NaN        NaN     NaN    NaN  NaN  NaN    NaN   \n",
       "\n",
       "   Face_HR  \n",
       "0      NaN  \n",
       "1      NaN  \n",
       "2      NaN  \n",
       "3      NaN  \n",
       "4      NaN  \n",
       "5      NaN  \n",
       "6      NaN  "
      ]
     },
     "execution_count": 1,
     "metadata": {},
     "output_type": "execute_result"
    }
   ],
   "source": [
    "import pandas as pd\n",
    "df1 = pd.read_excel('0.xlsx',sheet_name='Sheet2')\n",
    "df1"
   ]
  },
  {
   "cell_type": "code",
   "execution_count": 46,
   "metadata": {},
   "outputs": [
    {
     "data": {
      "text/plain": [
       "dtype('int64')"
      ]
     },
     "execution_count": 46,
     "metadata": {},
     "output_type": "execute_result"
    }
   ],
   "source": [
    "df1['实验序号'][1].dtype"
   ]
  },
  {
   "cell_type": "code",
   "execution_count": 4,
   "metadata": {},
   "outputs": [
    {
     "name": "stdout",
     "output_type": "stream",
     "text": [
      "['0_ISO-1_S-1', '1_ISO-1_S1/60', '2_ISO-1_S1/125', '3_ISO-1_S1/250', '4_ISO50_S-1', '5_ISO100_S-1', '6_ISO200_S-1', '7_ISO400_S-1']\n"
     ]
    }
   ],
   "source": [
    "#测试excel（xlsx）的读，写，包括对于子表等的读写\n",
    "from openpyxl import load_workbook\n",
    "import os\n",
    "# origin_path = 'C:/Users/T JACK/Desktop/ACSP/code/GreenChannel/dataset'\n",
    "origin_path =  r'C:\\Users\\T JACK\\Desktop\\ACSP\\code\\GreenChannel\\dataset'\n",
    "current_path = os.path.join(origin_path,'0_test')\n",
    "os.chdir(current_path)\n",
    "import pandas as pd\n",
    "experiment_df = pd.read_excel('0.xlsx',sheet_name='Sheet2')\n",
    "name_str = []\n",
    "for i in range (len(experiment_df.index)):\n",
    "    name_str.append(str(experiment_df['实验序号'][i])+'_'+'ISO'+str(experiment_df['ISO'][i])+'_'+'S'+str(experiment_df['Shutter'][i]))\n",
    "print(name_str)"
   ]
  },
  {
   "cell_type": "code",
   "execution_count": 6,
   "metadata": {},
   "outputs": [
    {
     "name": "stdout",
     "output_type": "stream",
     "text": [
      "实验序号\n"
     ]
    }
   ],
   "source": [
    "from openpyxl import load_workbook\n",
    "import os\n",
    "# origin_path = 'C:/Users/T JACK/Desktop/ACSP/code/GreenChannel/dataset'\n",
    "origin_path =  r'C:\\Users\\T JACK\\Desktop\\ACSP\\code\\GreenChannel\\dataset'\n",
    "current_path = os.path.join(origin_path,'0')\n",
    "os.chdir(current_path)\n",
    "wb = load_workbook('0.xlsx')\n",
    "ws = wb['实验信息总表']\n",
    "print(ws.cell(1,1).value)\n",
    "wb.create_sheet(index=1, title='One Sheet')\n",
    "wb.save('0.xlsx')"
   ]
  },
  {
   "cell_type": "code",
   "execution_count": 18,
   "metadata": {},
   "outputs": [
    {
     "data": {
      "text/plain": [
       "'实验序号'"
      ]
     },
     "execution_count": 18,
     "metadata": {},
     "output_type": "execute_result"
    }
   ],
   "source": [
    "ws.cell(1,1).value"
   ]
  },
  {
   "cell_type": "code",
   "execution_count": 21,
   "metadata": {},
   "outputs": [],
   "source": [
    "wb.create_sheet(index=2, title='0_0')\n",
    "wb.save('0.xlsx')"
   ]
  },
  {
   "cell_type": "code",
   "execution_count": 13,
   "metadata": {},
   "outputs": [
    {
     "name": "stdout",
     "output_type": "stream",
     "text": [
      "1660488319.556329\n",
      "1660488319.556329\n",
      "1660488319.556329\n",
      "1660488319.556329\n",
      "1660488319.556329\n",
      "1660488319.556329\n",
      "1660488319.556329\n",
      "1660488319.556329\n",
      "1660488319.556329\n",
      "1660488319.556329\n"
     ]
    }
   ],
   "source": [
    "import time\n",
    "ws = wb['data']\n",
    "a = [0,1,2,3,4]\n",
    "b = [5,6,7,8,9]\n",
    "c = [\n",
    "    [0,1],\n",
    "    [2,3],\n",
    "    [0,1],\n",
    "    [2,3],\n",
    "    [5,6]\n",
    "]\n",
    "for i in range(5):\n",
    "    print(time.time())\n",
    "    # ws.cell(i+1,1).value=a[i]\n",
    "    # ws.cell(i+1,2).value=b[i]\n",
    "    ws.append(c[i])\n",
    "    print(time.time())\n",
    "\n"
   ]
  },
  {
   "cell_type": "code",
   "execution_count": 25,
   "metadata": {},
   "outputs": [
    {
     "name": "stdout",
     "output_type": "stream",
     "text": [
      "默认工作表名称 Sheet\n",
      "mySheet\n",
      "['mySheet']\n",
      "['mySheet']\n",
      "创建工作表\n",
      "['mySheet', 'One Sheet', 'Two Sheet', 'Three Sheet']\n",
      "删除工作表\n",
      "['mySheet', 'One Sheet', 'Three Sheet']\n"
     ]
    },
    {
     "name": "stderr",
     "output_type": "stream",
     "text": [
      "C:\\Users\\TJACK~1\\AppData\\Local\\Temp/ipykernel_15920/903551488.py:15: DeprecationWarning: Call to deprecated function get_sheet_names (Use wb.sheetnames).\n",
      "  print(wb.get_sheet_names())\n"
     ]
    }
   ],
   "source": [
    "# 创建WorkSheet及删除\n",
    "import openpyxl\n",
    "\n",
    "# 创建工作簿\n",
    "wb = openpyxl.Workbook()\n",
    "ws = wb.active\n",
    "\n",
    "print('默认工作表名称', ws.title)\n",
    "\n",
    "# 设置名称\n",
    "ws.title = 'mySheet'\n",
    "print(ws.title)\n",
    "# 获取工作簿的所有sheetNames\n",
    "print(wb.sheetnames)  # 返回所有sheet名称 列表对象\n",
    "print(wb.get_sheet_names())\n",
    "\n",
    "print('创建工作表')\n",
    "wb.create_sheet(index=1, title='One Sheet')\n",
    "wb.create_sheet(index=2, title='Two Sheet')\n",
    "wb.create_sheet(index=3, title='Three Sheet')\n",
    "print(wb.sheetnames)\n",
    "print('删除工作表')\n",
    "# wb.remove_sheet(wb['Two Sheet'])  # Deprecating Waring：弃用\n",
    "wb.remove(wb['Two Sheet'])\n",
    "print(wb.sheetnames)\n",
    "wb.save('test.xlsx')"
   ]
  },
  {
   "cell_type": "code",
   "execution_count": 2,
   "metadata": {},
   "outputs": [
    {
     "data": {
      "text/plain": [
       "8.571428571428571"
      ]
     },
     "execution_count": 2,
     "metadata": {},
     "output_type": "execute_result"
    }
   ],
   "source": [
    "60/7"
   ]
  },
  {
   "cell_type": "code",
   "execution_count": 12,
   "metadata": {},
   "outputs": [
    {
     "data": {
      "text/plain": [
       "0        73\n",
       "1        65\n",
       "2        57\n",
       "3        51\n",
       "4        46\n",
       "       ... \n",
       "5888    100\n",
       "5889     96\n",
       "5890     95\n",
       "5891     97\n",
       "5892    101\n",
       "Name: 1, Length: 5893, dtype: int64"
      ]
     },
     "execution_count": 12,
     "metadata": {},
     "output_type": "execute_result"
    }
   ],
   "source": [
    "import pandas as pd\n",
    "file_path = r'C:\\Users\\T JACK\\Desktop\\ACSP\\code\\GreenChannel\\dataset\\0\\0.xlsx'\n",
    "experiment_id = 0\n",
    "df = pd.read_excel(file_path,sheet_name=str(experiment_id),header=None)\n",
    "df[1] = df[1].apply(int, base=16)\n"
   ]
  },
  {
   "cell_type": "code",
   "execution_count": 1,
   "metadata": {},
   "outputs": [
    {
     "data": {
      "text/plain": [
       "4"
      ]
     },
     "execution_count": 1,
     "metadata": {},
     "output_type": "execute_result"
    }
   ],
   "source": [
    "import pandas as pd\n",
    "import numpy as np\n",
    "\n",
    "a = [0,1,2,3,5,3,2,1]\n",
    "np.argmax(a)\n",
    "\n"
   ]
  }
 ],
 "metadata": {
  "kernelspec": {
   "display_name": "Python 3.8.12 ('OxfordAI_1_20220118')",
   "language": "python",
   "name": "python3"
  },
  "language_info": {
   "codemirror_mode": {
    "name": "ipython",
    "version": 3
   },
   "file_extension": ".py",
   "mimetype": "text/x-python",
   "name": "python",
   "nbconvert_exporter": "python",
   "pygments_lexer": "ipython3",
   "version": "3.8.12"
  },
  "orig_nbformat": 4,
  "vscode": {
   "interpreter": {
    "hash": "da6b68eb014d484a739fe1fea4ddc1354b9ffd6df4b7a6cc9d47ec4ca6f4011d"
   }
  }
 },
 "nbformat": 4,
 "nbformat_minor": 2
}
