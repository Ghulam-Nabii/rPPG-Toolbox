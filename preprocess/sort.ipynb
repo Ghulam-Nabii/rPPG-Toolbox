{
 "cells": [
  {
   "cell_type": "code",
   "execution_count": 31,
   "metadata": {},
   "outputs": [
    {
     "name": "stdout",
     "output_type": "stream",
     "text": [
      "D:\\rppg\\processed_data\n"
     ]
    }
   ],
   "source": [
    "# 创建processed_data, sorted_data\n",
    "import os\n",
    "\n",
    "origin_path = 'D:\\\\rppg'\n",
    "processed_path = os.path.join(origin_path, r'processed_data')\n",
    "print(processed_path)\n",
    "sorted_path = os.path.join(origin_path, r'sorted_data')\n",
    "\n",
    "if not os.path.exists(processed_path):\n",
    "    os.makedirs(processed_path)\n",
    "\n",
    "if not os.path.exists(sorted_path):\n",
    "    os.makedirs(sorted_path)"
   ]
  },
  {
   "cell_type": "code",
   "execution_count": 32,
   "metadata": {},
   "outputs": [],
   "source": [
    "# 虚拟创建subject文件夹\n",
    "experiment_nums = 20\n",
    "experimenters_nums = 10\n",
    "\n",
    "for i in range(experimenters_nums):\n",
    "    for j in range(experiment_nums):\n",
    "        file_name = f'subject{i+1}_{j}'\n",
    "        file_path = os.path.join(processed_path, file_name)\n",
    "        if not os.path.exists(file_path):\n",
    "            os.makedirs(file_path)"
   ]
  },
  {
   "cell_type": "code",
   "execution_count": 35,
   "metadata": {},
   "outputs": [],
   "source": [
    "import shutil\n",
    "\n",
    "# 按照灯光、运动、状态分类\n",
    "light_dic = {'LED_low':[0, 1, 2, 3, 14], 'LED_high':[4, 5, 6, 7, 13], 'incandecent':[8, 9, 10, 11, 12], 'nature':[15, 16, 17, 18, 19]}\n",
    "exercise_dic = {'yes':[12, 13, 14, 15], 'no':[0, 1, 2, 3, 4, 5, 6, 7, 8, 9, 10, 11, 16, 17, 18, 19]}\n",
    "motion_dic = {'stationary':[0, 4, 8, 12, 13, 14, 15, 16], 'rotation':[1, 5, 9, 17], 'talking':[2, 6, 10, 18], 'walking':[3, 7, 11, 19]}\n",
    "dic = {'light':light_dic, 'exercise':exercise_dic, 'motion':motion_dic}\n",
    "\n",
    "for each_dic in dic:\n",
    "    for each_light in dic[each_dic]:\n",
    "        target_path = os.path.join(sorted_path, each_dic, each_light)\n",
    "        # target_path = os.path.abspath(target_path)\n",
    "        if not os.path.exists(target_path):\n",
    "            os.makedirs(target_path)\n",
    "        \n",
    "        for i in range(experimenters_nums):\n",
    "            for each in dic[each_dic][each_light]:\n",
    "                target_dir = f'subject{i+1}_{each}'\n",
    "                source_path = os.path.join(processed_path, target_dir)\n",
    "                target_dir = os.path.join(target_path, target_dir)\n",
    "                # source_path = os.path.abspath(source_path)\n",
    "                if os.path.exists(target_dir):\n",
    "                    shutil.rmtree(target_dir)\n",
    "                shutil.copytree(source_path, target_dir)"
   ]
  },
  {
   "cell_type": "code",
   "execution_count": null,
   "metadata": {},
   "outputs": [],
   "source": []
  }
 ],
 "metadata": {
  "kernelspec": {
   "display_name": "Python 3.9.12 ('base')",
   "language": "python",
   "name": "python3"
  },
  "language_info": {
   "codemirror_mode": {
    "name": "ipython",
    "version": 3
   },
   "file_extension": ".py",
   "mimetype": "text/x-python",
   "name": "python",
   "nbconvert_exporter": "python",
   "pygments_lexer": "ipython3",
   "version": "3.9.7"
  },
  "orig_nbformat": 4,
  "vscode": {
   "interpreter": {
    "hash": "ad2bdc8ecc057115af97d19610ffacc2b4e99fae6737bb82f5d7fb13d2f2c186"
   }
  }
 },
 "nbformat": 4,
 "nbformat_minor": 2
}
