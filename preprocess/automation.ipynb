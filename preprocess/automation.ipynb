{
 "cells": [
  {
   "cell_type": "code",
   "execution_count": 4,
   "metadata": {},
   "outputs": [
    {
     "name": "stdout",
     "output_type": "stream",
     "text": [
      "filelist: ['20220816_203446.mp4', '20220816_203608.mp4', '20220816_203730.mp4', '20220816_203853.mp4', '20220816_204038.mp4', '20220816_204159.mp4', '20220816_204323.mp4', '20220816_204447.mp4']\n",
      "filename1: 20220816_203446\n",
      "filename2: 4\n",
      "filename3: C:\\Users\\T JACK\\Desktop\\ACSP\\code\\GreenChannel\\dataset\\4\\face_video\\4_0.mp4\n",
      "filename1: 20220816_203608\n",
      "filename2: 4\n",
      "filename3: C:\\Users\\T JACK\\Desktop\\ACSP\\code\\GreenChannel\\dataset\\4\\face_video\\4_1.mp4\n",
      "filename1: 20220816_203730\n",
      "filename2: 4\n",
      "filename3: C:\\Users\\T JACK\\Desktop\\ACSP\\code\\GreenChannel\\dataset\\4\\face_video\\4_2.mp4\n",
      "filename1: 20220816_203853\n",
      "filename2: 4\n",
      "filename3: C:\\Users\\T JACK\\Desktop\\ACSP\\code\\GreenChannel\\dataset\\4\\face_video\\4_3.mp4\n",
      "filename1: 20220816_204038\n",
      "filename2: 4\n",
      "filename3: C:\\Users\\T JACK\\Desktop\\ACSP\\code\\GreenChannel\\dataset\\4\\face_video\\4_4.mp4\n",
      "filename1: 20220816_204159\n",
      "filename2: 4\n",
      "filename3: C:\\Users\\T JACK\\Desktop\\ACSP\\code\\GreenChannel\\dataset\\4\\face_video\\4_5.mp4\n",
      "filename1: 20220816_204323\n",
      "filename2: 4\n",
      "filename3: C:\\Users\\T JACK\\Desktop\\ACSP\\code\\GreenChannel\\dataset\\4\\face_video\\4_6.mp4\n",
      "filename1: 20220816_204447\n",
      "filename2: 4\n",
      "filename3: C:\\Users\\T JACK\\Desktop\\ACSP\\code\\GreenChannel\\dataset\\4\\face_video\\4_7.mp4\n"
     ]
    }
   ],
   "source": [
    "import os\n",
    "#自动命名拍摄视频 \n",
    "subject_id = 0\n",
    "excel_path = str(subject_id)+'.xlsx'\n",
    "origin_path =  r'C:\\Users\\T JACK\\Desktop\\ACSP\\code\\GreenChannel\\dataset'#数据集根目录\n",
    "current_path = os.path.join(origin_path,str(subject_id))#实验者目录\n",
    "os.chdir(current_path)\n",
    "\n",
    "def file_filter(f):\n",
    "    if f[-4:] in ['.mp4']:\n",
    "        return True\n",
    "    else:\n",
    "        return False\n",
    "\n",
    "\n",
    "\n",
    "filelist = os.listdir(current_path)   # 文件夹路径\n",
    "filelist = list(filter(file_filter, filelist))\n",
    "filetype = '.mp4'             # 文件类型\n",
    "filelist.sort(key=lambda x: int(x[-9: -4])) \n",
    "file_order = 0\n",
    "print(\"filelist:\",filelist)\n",
    "for file in filelist:\n",
    "    \n",
    "    Olddir = os.path.join(current_path, file)\n",
    "    if os.path.isdir(Olddir):\n",
    "        continue\n",
    "    filename = os.path.splitext(file)[0]\n",
    "    print(\"filename1:\",filename)\n",
    "    filename = str(subject_id) # 重命名的规则\n",
    "    print(\"filename2:\",filename)\n",
    "    filetype = os.path.splitext(file)[1]\n",
    "    filename = str(filename)\n",
    "    Newdir = os.path.join(current_path,  str(subject_id)+'_'+str(file_order)+ filetype) # zfill(6) # 填充到6位字符串\n",
    "    print(\"filename3:\",Newdir)\n",
    "    os.rename(Olddir, Newdir)\n",
    "    file_order+=1"
   ]
  },
  {
   "cell_type": "code",
   "execution_count": 27,
   "metadata": {},
   "outputs": [
    {
     "name": "stdout",
     "output_type": "stream",
     "text": [
      "00:00:02.930\n"
     ]
    }
   ],
   "source": [
    "seconds=2.93\n",
    "m, s = divmod(seconds, 60)\n",
    "h, m = divmod(m, 60)\n",
    "a = 1000*(s-int(s))\n",
    "time = (\"%02d:%02d:%02d.%03d\" % (h, m, s,a))\n",
    "print (time)\n",
    "\n",
    "\n",
    "\n"
   ]
  },
  {
   "cell_type": "code",
   "execution_count": 19,
   "metadata": {},
   "outputs": [
    {
     "data": {
      "text/plain": [
       "35.55000000000018"
      ]
     },
     "execution_count": 19,
     "metadata": {},
     "output_type": "execute_result"
    }
   ],
   "source": [
    "s"
   ]
  },
  {
   "cell_type": "code",
   "execution_count": 2,
   "metadata": {},
   "outputs": [
    {
     "name": "stdout",
     "output_type": "stream",
     "text": [
      "开始录音\n",
      "start record: 1660535533.0191574\n",
      "end record: 1660535538.9791458\n",
      "录音结束\n"
     ]
    }
   ],
   "source": [
    "import threading\n",
    "import pyaudio\n",
    "import wave\n",
    "import time\n",
    "\n",
    "timestamp_record = []\n",
    "file_path = '0_0'+'.wav'\n",
    "def recording_sound(file_path):\n",
    "    sec = 6 # s\n",
    "    #创建对象\n",
    "    pa = pyaudio.PyAudio()\n",
    "    #创建流：采样位，声道数，采样频率，缓冲区大小，input\n",
    "    stream = pa.open(format=pyaudio.paInt16,\n",
    "                     channels=1,\n",
    "                     rate=16000,\n",
    "                     input=True,\n",
    "                     frames_per_buffer=1024)\n",
    "    #创建式打开音频文件\n",
    "    wf = wave.open(file_path, \"wb\")\n",
    "    #设置音频文件的属性：采样位，声道数，采样频率，缓冲区大小，必须与流的属性一致\n",
    "    wf.setnchannels(1)\n",
    "    wf.setsampwidth(pa.get_sample_size(pyaudio.paInt16))\n",
    "    wf.setframerate(16000)\n",
    "    print(\"开始录音\")\n",
    "    #采样频率*秒数/缓冲区大小\n",
    "    print('start record:',time.time())\n",
    "    start_win_record_time = time.time()\n",
    "    for w in range(int(16000*sec/1024)):\n",
    "        data = stream.read(1024)#每次从流的缓存中读出数据\n",
    "        wf.writeframes(data)#把读出的数据写入wf\n",
    "    print('end record:',time.time())\n",
    "    end_win_record_time = time.time()\n",
    "\n",
    "    print(\"录音结束\")\n",
    "    \n",
    "    stream.stop_stream()#先把流停止\n",
    "    stream.close()#再把流关闭\n",
    "    pa.terminate()#把对象关闭\n",
    "    wf.close()#把声音文件关闭，否则不能播放\n",
    "    timestamp_record.append(start_win_record_time)\n",
    "    timestamp_record.append(end_win_record_time)\n",
    "    return file_path\n",
    "\n",
    "task1 = threading.Thread(target=recording_sound,args=[file_path,])\n",
    "task1.start()"
   ]
  },
  {
   "cell_type": "code",
   "execution_count": 8,
   "metadata": {},
   "outputs": [
    {
     "name": "stdout",
     "output_type": "stream",
     "text": [
      "开始录音\n",
      "start record: 1660660990.1793127\n"
     ]
    },
    {
     "name": "stdout",
     "output_type": "stream",
     "text": [
      "start play : 1660660990.6001747\n",
      "end record: 1660660996.1313002\n",
      "录音结束\n"
     ]
    }
   ],
   "source": [
    "import threading,time\n",
    "from get_oximeter_data import sound_wav_out,recording_sound\n",
    "file_path ='test.wav'\n",
    "\n",
    "task1 = threading.Thread(target=recording_sound,args=(file_path,))\n",
    "task2 = threading.Thread(target=sound_wav_out)\n",
    "task1.start()\n",
    "time.sleep(0.5)\n",
    "task2.start()"
   ]
  }
 ],
 "metadata": {
  "kernelspec": {
   "display_name": "Python 3.8.12 ('OxfordAI_1_20220118')",
   "language": "python",
   "name": "python3"
  },
  "language_info": {
   "codemirror_mode": {
    "name": "ipython",
    "version": 3
   },
   "file_extension": ".py",
   "mimetype": "text/x-python",
   "name": "python",
   "nbconvert_exporter": "python",
   "pygments_lexer": "ipython3",
   "version": "3.8.12"
  },
  "orig_nbformat": 4,
  "vscode": {
   "interpreter": {
    "hash": "da6b68eb014d484a739fe1fea4ddc1354b9ffd6df4b7a6cc9d47ec4ca6f4011d"
   }
  }
 },
 "nbformat": 4,
 "nbformat_minor": 2
}
